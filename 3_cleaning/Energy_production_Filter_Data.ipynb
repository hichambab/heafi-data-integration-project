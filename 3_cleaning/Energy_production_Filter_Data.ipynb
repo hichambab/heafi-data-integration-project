{
  "cells": [
    {
      "attachments": {},
      "cell_type": "markdown",
      "metadata": {},
      "source": [
        "Link to dataset on drive because it is too large to be uploaded to github:\n",
        "\n",
        "https://drive.google.com/file/d/1b5R1mkm2hszCmJiOBvio45WApG1iA1cv/view?usp=sharing"
      ]
    },
    {
      "cell_type": "code",
      "execution_count": null,
      "metadata": {
        "colab": {
          "base_uri": "https://localhost:8080/"
        },
        "id": "mvVSIKBnBdtj",
        "outputId": "67780977-06d9-4f19-f717-5f123a5faaaf"
      },
      "outputs": [
        {
          "name": "stderr",
          "output_type": "stream",
          "text": [
            "<ipython-input-18-4c4cafb4cd38>:4: FutureWarning: The error_bad_lines argument has been deprecated and will be removed in a future version. Use on_bad_lines in the future.\n",
            "\n",
            "\n",
            "  df = pd.read_csv('organised_Gen.csv', error_bad_lines=False)\n"
          ]
        },
        {
          "name": "stdout",
          "output_type": "stream",
          "text": [
            "<class 'pandas.core.frame.DataFrame'>\n",
            "RangeIndex: 496774 entries, 0 to 496773\n",
            "Data columns (total 7 columns):\n",
            " #   Column                      Non-Null Count   Dtype  \n",
            "---  ------                      --------------   -----  \n",
            " 0   Unnamed: 0                  496774 non-null  int64  \n",
            " 1   YEAR                        496774 non-null  int64  \n",
            " 2   MONTH                       496774 non-null  int64  \n",
            " 3   STATE                       496774 non-null  object \n",
            " 4   TYPE OF PRODUCER            496774 non-null  object \n",
            " 5   ENERGY SOURCE               496774 non-null  object \n",
            " 6   GENERATION (Megawatthours)  496774 non-null  float64\n",
            "dtypes: float64(1), int64(3), object(3)\n",
            "memory usage: 26.5+ MB\n"
          ]
        }
      ],
      "source": [
        "import pandas as pd\n",
        "\n",
        "# Read the CSV file\n",
        "df = pd.read_csv('organised_Gen.csv', error_bad_lines=False) #dataset needs to be downloaded from google drive - link at top\n",
        "\n",
        "df.info()"
      ]
    },
    {
      "cell_type": "code",
      "execution_count": null,
      "metadata": {
        "colab": {
          "base_uri": "https://localhost:8080/"
        },
        "id": "SNilBZZMF9D5",
        "outputId": "c1f372c3-86ac-4778-8c81-aee31b7e76a6"
      },
      "outputs": [
        {
          "name": "stdout",
          "output_type": "stream",
          "text": [
            "   Unnamed: 0  YEAR  MONTH STATE                         TYPE OF PRODUCER  \\\n",
            "0           0  2001      1    AK            Total Electric Power Industry   \n",
            "1           1  2001      1    AK            Total Electric Power Industry   \n",
            "2           2  2001      1    AK            Total Electric Power Industry   \n",
            "3           3  2001      1    AK            Total Electric Power Industry   \n",
            "4           4  2001      1    AK            Total Electric Power Industry   \n",
            "5           5  2001      1    AK            Total Electric Power Industry   \n",
            "6           6  2001      1    AK  Electric Generators, Electric Utilities   \n",
            "7           7  2001      1    AK  Electric Generators, Electric Utilities   \n",
            "8           8  2001      1    AK  Electric Generators, Electric Utilities   \n",
            "9           9  2001      1    AK  Electric Generators, Electric Utilities   \n",
            "\n",
            "                ENERGY SOURCE  GENERATION (Megawatthours)  \n",
            "0                        Coal                     46903.0  \n",
            "1                   Petroleum                     71085.0  \n",
            "2                 Natural Gas                    367521.0  \n",
            "3  Hydroelectric Conventional                    104549.0  \n",
            "4                        Wind                        87.0  \n",
            "5                       Total                    590145.0  \n",
            "6                        Coal                     18410.0  \n",
            "7                   Petroleum                     64883.0  \n",
            "8                 Natural Gas                    305277.0  \n",
            "9  Hydroelectric Conventional                    104549.0  \n"
          ]
        }
      ],
      "source": [
        "print(df.head(10))\n"
      ]
    },
    {
      "cell_type": "code",
      "execution_count": null,
      "metadata": {
        "id": "ZjF6krw4GBQB"
      },
      "outputs": [],
      "source": [
        "df_selected = df[df['YEAR'] == 2021].copy()\n",
        "df = df_selected"
      ]
    },
    {
      "cell_type": "code",
      "execution_count": null,
      "metadata": {
        "colab": {
          "base_uri": "https://localhost:8080/"
        },
        "id": "b0W4vwP4MN2O",
        "outputId": "b6a6067c-217a-4b92-cddd-05af23cc2b31"
      },
      "outputs": [
        {
          "name": "stdout",
          "output_type": "stream",
          "text": [
            "<class 'pandas.core.frame.DataFrame'>\n",
            "Int64Index: 25422 entries, 460766 to 486187\n",
            "Data columns (total 7 columns):\n",
            " #   Column                      Non-Null Count  Dtype  \n",
            "---  ------                      --------------  -----  \n",
            " 0   Unnamed: 0                  25422 non-null  int64  \n",
            " 1   YEAR                        25422 non-null  int64  \n",
            " 2   MONTH                       25422 non-null  int64  \n",
            " 3   STATE                       25422 non-null  object \n",
            " 4   TYPE OF PRODUCER            25422 non-null  object \n",
            " 5   ENERGY SOURCE               25422 non-null  object \n",
            " 6   GENERATION (Megawatthours)  25422 non-null  float64\n",
            "dtypes: float64(1), int64(3), object(3)\n",
            "memory usage: 1.6+ MB\n"
          ]
        }
      ],
      "source": [
        "df.info() #25000 entreies after filtering out by year"
      ]
    },
    {
      "cell_type": "code",
      "execution_count": null,
      "metadata": {
        "id": "I5lvgtHoMYwK"
      },
      "outputs": [],
      "source": [
        "df_selectedAZ = df[df['STATE'].str.contains('AZ', case=False)]\n",
        "df_selectedCA = df[df['STATE'].str.contains('CA', case=False)]\n",
        "df_selectedNV = df[df['STATE'].str.contains('NV', case=False)]\n",
        "df_selectedAL = df[df['STATE'].str.contains('AL', case=False)]\n",
        "df_selectedSC = df[df['STATE'].str.contains('SC', case=False)]\n",
        "df_selectedNC = df[df['STATE'].str.contains('NC', case=False)]\n",
        "df_selectedOR = df[df['STATE'].str.contains('OR', case=False)]\n",
        "df_selectedGA = df[df['STATE'].str.contains('GA', case=False)]\n",
        "df_selectedIA = df[df['STATE'].str.contains('IA', case=False)]"
      ]
    },
    {
      "cell_type": "code",
      "execution_count": null,
      "metadata": {
        "id": "DXQbcUl4M1mI"
      },
      "outputs": [],
      "source": [
        "combined_df = pd.concat([df_selectedAZ, df_selectedCA, df_selectedNV, df_selectedAL, df_selectedSC, df_selectedNC, df_selectedOR, df_selectedGA, df_selectedIA])"
      ]
    },
    {
      "cell_type": "code",
      "execution_count": null,
      "metadata": {
        "colab": {
          "base_uri": "https://localhost:8080/"
        },
        "id": "PnWJuT2tM5so",
        "outputId": "ee1b6cd0-f134-4ba0-da36-a78981c1f699"
      },
      "outputs": [
        {
          "name": "stdout",
          "output_type": "stream",
          "text": [
            "<class 'pandas.core.frame.DataFrame'>\n",
            "Int64Index: 5675 entries, 460875 to 484582\n",
            "Data columns (total 7 columns):\n",
            " #   Column                      Non-Null Count  Dtype  \n",
            "---  ------                      --------------  -----  \n",
            " 0   Unnamed: 0                  5675 non-null   int64  \n",
            " 1   YEAR                        5675 non-null   int64  \n",
            " 2   MONTH                       5675 non-null   int64  \n",
            " 3   STATE                       5675 non-null   object \n",
            " 4   TYPE OF PRODUCER            5675 non-null   object \n",
            " 5   ENERGY SOURCE               5675 non-null   object \n",
            " 6   GENERATION (Megawatthours)  5675 non-null   float64\n",
            "dtypes: float64(1), int64(3), object(3)\n",
            "memory usage: 354.7+ KB\n"
          ]
        }
      ],
      "source": [
        "combined_df.info() #5675 enteies after filtering out needed states"
      ]
    },
    {
      "cell_type": "code",
      "execution_count": null,
      "metadata": {
        "id": "i7omJbMJNqf-"
      },
      "outputs": [],
      "source": [
        "combined_df.to_csv('filteredFuelInfo.csv', index=False)"
      ]
    },
    {
      "cell_type": "code",
      "execution_count": null,
      "metadata": {
        "colab": {
          "base_uri": "https://localhost:8080/"
        },
        "id": "0Oz1ObJvmhMO",
        "outputId": "d56d4962-2c9a-44ac-fad2-b26a124f0ab5"
      },
      "outputs": [
        {
          "name": "stdout",
          "output_type": "stream",
          "text": [
            "['Total' 'Coal' 'Pumped Storage' 'Hydroelectric Conventional'\n",
            " 'Natural Gas' 'Nuclear' 'Other' 'Petroleum'\n",
            " 'Solar Thermal and Photovoltaic' 'Other Biomass' 'Wind'\n",
            " 'Wood and Wood Derived Fuels' 'Geothermal' 'Other Gases']\n"
          ]
        }
      ],
      "source": [
        "unique_values = combined_df['ENERGY SOURCE'].unique()\n",
        "\n",
        "# Print the unique values\n",
        "print(unique_values)\n"
      ]
    },
    {
      "cell_type": "code",
      "execution_count": null,
      "metadata": {
        "colab": {
          "base_uri": "https://localhost:8080/"
        },
        "id": "MMWAV-AQpKTw",
        "outputId": "43fe6c9d-408c-4341-dfcb-c79c565ca9a6"
      },
      "outputs": [
        {
          "name": "stdout",
          "output_type": "stream",
          "text": [
            "<class 'pandas.core.frame.DataFrame'>\n",
            "Int64Index: 5675 entries, 460875 to 484582\n",
            "Data columns (total 7 columns):\n",
            " #   Column                      Non-Null Count  Dtype  \n",
            "---  ------                      --------------  -----  \n",
            " 0   Unnamed: 0                  5675 non-null   int64  \n",
            " 1   YEAR                        5675 non-null   int64  \n",
            " 2   MONTH                       5675 non-null   int64  \n",
            " 3   STATE                       5675 non-null   object \n",
            " 4   TYPE OF PRODUCER            5675 non-null   object \n",
            " 5   ENERGY SOURCE               5675 non-null   object \n",
            " 6   GENERATION (Megawatthours)  5675 non-null   float64\n",
            "dtypes: float64(1), int64(3), object(3)\n",
            "memory usage: 354.7+ KB\n"
          ]
        }
      ],
      "source": [
        "combined_df.info()\n",
        "\n",
        "df = combined_df"
      ]
    },
    {
      "cell_type": "code",
      "execution_count": null,
      "metadata": {
        "id": "uhuwHTLQn19Z"
      },
      "outputs": [],
      "source": [
        "df_selectedCoal = df[df['ENERGY SOURCE'].str.contains('Coal', case=False)]\n",
        "df_selectedHydro = df[df['ENERGY SOURCE'].str.contains('Hydroelectric Conventional', case=False)]\n",
        "df_selectedNGas = df[df['ENERGY SOURCE'].str.contains('Natural Gas', case=False)]\n",
        "df_selectedNuclear = df[df['ENERGY SOURCE'].str.contains('Nuclear', case=False)]\n",
        "df_selectedPetrol = df[df['ENERGY SOURCE'].str.contains('Petroleum', case=False)]\n",
        "df_selectedBiomass = df[df['ENERGY SOURCE'].str.contains('Other Biomass', case=False)]\n"
      ]
    },
    {
      "cell_type": "code",
      "execution_count": null,
      "metadata": {
        "id": "PQ4K7YnnoR9k"
      },
      "outputs": [],
      "source": [
        "combined_df2 = pd.concat([df_selectedCoal, df_selectedHydro, df_selectedNGas, df_selectedNuclear, df_selectedPetrol, df_selectedBiomass])"
      ]
    },
    {
      "cell_type": "code",
      "execution_count": null,
      "metadata": {
        "colab": {
          "base_uri": "https://localhost:8080/"
        },
        "id": "vkFz4umJpR70",
        "outputId": "2a6b1859-5182-4a6b-884d-63257c6cc550"
      },
      "outputs": [
        {
          "name": "stdout",
          "output_type": "stream",
          "text": [
            "<class 'pandas.core.frame.DataFrame'>\n",
            "Int64Index: 2834 entries, 460876 to 484580\n",
            "Data columns (total 7 columns):\n",
            " #   Column                      Non-Null Count  Dtype  \n",
            "---  ------                      --------------  -----  \n",
            " 0   Unnamed: 0                  2834 non-null   int64  \n",
            " 1   YEAR                        2834 non-null   int64  \n",
            " 2   MONTH                       2834 non-null   int64  \n",
            " 3   STATE                       2834 non-null   object \n",
            " 4   TYPE OF PRODUCER            2834 non-null   object \n",
            " 5   ENERGY SOURCE               2834 non-null   object \n",
            " 6   GENERATION (Megawatthours)  2834 non-null   float64\n",
            "dtypes: float64(1), int64(3), object(3)\n",
            "memory usage: 177.1+ KB\n"
          ]
        }
      ],
      "source": [
        "combined_df2.info() #2834 enteries after filtering out energy source"
      ]
    },
    {
      "cell_type": "code",
      "execution_count": null,
      "metadata": {
        "id": "b4l3YolBocsy"
      },
      "outputs": [],
      "source": [
        "combined_df2.to_csv('filteredFuelInfoFilter222.csv', index=False)"
      ]
    },
    {
      "cell_type": "code",
      "execution_count": null,
      "metadata": {
        "colab": {
          "base_uri": "https://localhost:8080/"
        },
        "id": "r3Cl6gxGonAj",
        "outputId": "d1f372c6-3059-40cd-b3ec-e4da56693968"
      },
      "outputs": [
        {
          "name": "stdout",
          "output_type": "stream",
          "text": [
            "<class 'pandas.core.frame.DataFrame'>\n",
            "RangeIndex: 2834 entries, 0 to 2833\n",
            "Data columns (total 7 columns):\n",
            " #   Column                      Non-Null Count  Dtype  \n",
            "---  ------                      --------------  -----  \n",
            " 0   Unnamed: 0                  2834 non-null   int64  \n",
            " 1   YEAR                        2834 non-null   int64  \n",
            " 2   MONTH                       2834 non-null   int64  \n",
            " 3   STATE                       2834 non-null   object \n",
            " 4   TYPE OF PRODUCER            2834 non-null   object \n",
            " 5   ENERGY SOURCE               2834 non-null   object \n",
            " 6   GENERATION (Megawatthours)  2834 non-null   float64\n",
            "dtypes: float64(1), int64(3), object(3)\n",
            "memory usage: 155.1+ KB\n"
          ]
        },
        {
          "name": "stderr",
          "output_type": "stream",
          "text": [
            "<ipython-input-31-072fe14491ac>:2: FutureWarning: The error_bad_lines argument has been deprecated and will be removed in a future version. Use on_bad_lines in the future.\n",
            "\n",
            "\n",
            "  df = pd.read_csv('filteredFuelInfoFilter222.csv', error_bad_lines=False)\n"
          ]
        }
      ],
      "source": [
        "# Read the CSV file\n",
        "df = pd.read_csv('filteredFuelInfoFilter222.csv', error_bad_lines=False)\n",
        "\n",
        "#df = df.drop('Unnamed: 0', axis=1) #unneccecary column\n",
        "\n",
        "df.info();"
      ]
    },
    {
      "cell_type": "code",
      "execution_count": null,
      "metadata": {
        "colab": {
          "base_uri": "https://localhost:8080/"
        },
        "id": "flz77L5qq22L",
        "outputId": "288e6118-75cb-46f2-9da2-b1d5e938bedd"
      },
      "outputs": [
        {
          "name": "stdout",
          "output_type": "stream",
          "text": [
            "['AZ' 'CA' 'NV' 'AL' 'US-TOTAL' 'SC' 'NC' 'GA' 'IA' 'OR']\n"
          ]
        }
      ],
      "source": [
        "unique_values = df['STATE'].unique()\n",
        "\n",
        "# Print the unique values\n",
        "print(unique_values)"
      ]
    },
    {
      "cell_type": "code",
      "execution_count": null,
      "metadata": {
        "colab": {
          "base_uri": "https://localhost:8080/"
        },
        "id": "XO8dIv1IrGuU",
        "outputId": "c34292d7-00a7-49ca-ebc7-053dffe15c0a"
      },
      "outputs": [
        {
          "name": "stdout",
          "output_type": "stream",
          "text": [
            "['Coal' 'Hydroelectric Conventional' 'Natural Gas' 'Nuclear' 'Petroleum'\n",
            " 'Other Biomass']\n"
          ]
        }
      ],
      "source": [
        "unique_values = df['ENERGY SOURCE'].unique()\n",
        "\n",
        "# Print the unique values\n",
        "print(unique_values)"
      ]
    },
    {
      "attachments": {},
      "cell_type": "markdown",
      "metadata": {
        "id": "1dQC1Q6cp-OR"
      },
      "source": []
    },
    {
      "cell_type": "code",
      "execution_count": null,
      "metadata": {
        "colab": {
          "base_uri": "https://localhost:8080/"
        },
        "id": "_BHIzNCUrT5X",
        "outputId": "0ce64713-139c-4673-83b6-f961f6621db5"
      },
      "outputs": [
        {
          "name": "stdout",
          "output_type": "stream",
          "text": [
            "      Unnamed: 0  YEAR  MONTH STATE  \\\n",
            "0            110  2021      1    AZ   \n",
            "1            136  2021      1    AZ   \n",
            "2           2231  2021      2    AZ   \n",
            "3           2257  2021      2    AZ   \n",
            "4           4352  2021      3    AZ   \n",
            "...          ...   ...    ...   ...   \n",
            "2829       23789  2021     12    IA   \n",
            "2830       23795  2021     12    IA   \n",
            "2831       23799  2021     12    IA   \n",
            "2832       23805  2021     12    IA   \n",
            "2833       23814  2021     12    IA   \n",
            "\n",
            "                                      TYPE OF PRODUCER  ENERGY SOURCE  \\\n",
            "0                        Total Electric Power Industry           Coal   \n",
            "1              Electric Generators, Electric Utilities           Coal   \n",
            "2                        Total Electric Power Industry           Coal   \n",
            "3              Electric Generators, Electric Utilities           Coal   \n",
            "4                        Total Electric Power Industry           Coal   \n",
            "...                                                ...            ...   \n",
            "2829         Combined Heat and Power, Industrial Power  Other Biomass   \n",
            "2830         Combined Heat and Power, Commercial Power  Other Biomass   \n",
            "2831           Combined Heat and Power, Electric Power  Other Biomass   \n",
            "2832  Electric Generators, Independent Power Producers  Other Biomass   \n",
            "2833           Electric Generators, Electric Utilities  Other Biomass   \n",
            "\n",
            "      GENERATION (Megawatthours)  \n",
            "0                       938410.0  \n",
            "1                       938410.0  \n",
            "2                      1168947.0  \n",
            "3                      1168947.0  \n",
            "4                       564331.0  \n",
            "...                          ...  \n",
            "2829                      5150.0  \n",
            "2830                       848.0  \n",
            "2831                       310.0  \n",
            "2832                      8199.0  \n",
            "2833                      1900.0  \n",
            "\n",
            "[2450 rows x 7 columns]\n"
          ]
        }
      ],
      "source": [
        "rslt_df = df[df['STATE'] != 'US-TOTAL']\n",
        "\n",
        "print(rslt_df)\n",
        "df= rslt_df"
      ]
    },
    {
      "cell_type": "code",
      "execution_count": null,
      "metadata": {
        "colab": {
          "base_uri": "https://localhost:8080/"
        },
        "id": "q4ZMqwFrsKe4",
        "outputId": "c03a8501-a2cc-4b1e-9c23-f78652416432"
      },
      "outputs": [
        {
          "name": "stdout",
          "output_type": "stream",
          "text": [
            "      Unnamed: 0 STATE  ENERGY SOURCE  GENERATION (Megawatthours)\n",
            "0            110    AZ           Coal                    938410.0\n",
            "1            136    AZ           Coal                    938410.0\n",
            "2           2231    AZ           Coal                   1168947.0\n",
            "3           2257    AZ           Coal                   1168947.0\n",
            "4           4352    AZ           Coal                    564331.0\n",
            "...          ...   ...            ...                         ...\n",
            "2829       23789    IA  Other Biomass                      5150.0\n",
            "2830       23795    IA  Other Biomass                       848.0\n",
            "2831       23799    IA  Other Biomass                       310.0\n",
            "2832       23805    IA  Other Biomass                      8199.0\n",
            "2833       23814    IA  Other Biomass                      1900.0\n",
            "\n",
            "[2450 rows x 4 columns]\n"
          ]
        }
      ],
      "source": [
        "df = df.drop('YEAR', axis=1)\n",
        "df = df.drop('MONTH', axis=1)\n",
        "df = df.drop('TYPE OF PRODUCER', axis=1)\n",
        "\n",
        "print(df)"
      ]
    },
    {
      "cell_type": "code",
      "execution_count": null,
      "metadata": {
        "colab": {
          "base_uri": "https://localhost:8080/"
        },
        "id": "Imo4CakyudUp",
        "outputId": "77dbf8bc-1177-4098-8db9-5639a4d15d8e"
      },
      "outputs": [
        {
          "name": "stdout",
          "output_type": "stream",
          "text": [
            "     STATE  ENERGY SOURCE  GENERATION (Megawatthours)\n",
            "0       AZ           Coal                    938410.0\n",
            "1       AZ           Coal                    938410.0\n",
            "2       AZ           Coal                   1168947.0\n",
            "3       AZ           Coal                   1168947.0\n",
            "4       AZ           Coal                    564331.0\n",
            "...    ...            ...                         ...\n",
            "2829    IA  Other Biomass                      5150.0\n",
            "2830    IA  Other Biomass                       848.0\n",
            "2831    IA  Other Biomass                       310.0\n",
            "2832    IA  Other Biomass                      8199.0\n",
            "2833    IA  Other Biomass                      1900.0\n",
            "\n",
            "[2450 rows x 3 columns]\n"
          ]
        }
      ],
      "source": [
        "df = df.drop('Unnamed: 0', axis=1)\n",
        "\n",
        "print(df)"
      ]
    },
    {
      "cell_type": "code",
      "execution_count": null,
      "metadata": {
        "id": "GSkFZKIMujWI"
      },
      "outputs": [],
      "source": [
        "# Filter rows based on conditions\n",
        "filtered_df = df[(df['STATE'] == 'AZ') & (df['ENERGY SOURCE'] == 'Coal')]\n",
        "\n",
        "# Compute the sum of the 'amount' column\n",
        "sum_amount = filtered_df['GENERATION (Megawatthours)'].sum()\n",
        "\n",
        "# Create a new DataFrame with the sum as a new row\n",
        "new_row = pd.DataFrame({'STATE': ['AZ'], 'ENERGY SOURCE': ['Coal'], 'GENERATION (Megawatthours)': [sum_amount]})\n"
      ]
    },
    {
      "cell_type": "code",
      "execution_count": null,
      "metadata": {
        "colab": {
          "base_uri": "https://localhost:8080/"
        },
        "id": "LBg3oKBevZFg",
        "outputId": "5348dd4b-f1ce-4bd6-eee0-be69e14813c1"
      },
      "outputs": [
        {
          "name": "stdout",
          "output_type": "stream",
          "text": [
            "  STATE ENERGY SOURCE  GENERATION (Megawatthours)\n",
            "0    AZ          Coal                  28601150.0\n"
          ]
        }
      ],
      "source": [
        "fresh_df = pd.DataFrame()\n",
        "\n",
        "fresh_df = pd.concat([fresh_df, new_row])\n",
        "\n",
        "print(fresh_df)"
      ]
    },
    {
      "cell_type": "code",
      "execution_count": null,
      "metadata": {
        "colab": {
          "base_uri": "https://localhost:8080/"
        },
        "id": "zK-Q0PpBxPlT",
        "outputId": "869fcbd3-d7a2-4241-ad78-8821c92347c0"
      },
      "outputs": [
        {
          "name": "stdout",
          "output_type": "stream",
          "text": [
            "['AZ', 'CA', 'NV', 'AL', 'SC', 'NC', 'GA', 'IA', 'OR']\n"
          ]
        }
      ],
      "source": [
        "# Get unique values from a column and store in a list\n",
        "unique_states = df['STATE'].unique().tolist()\n",
        "\n",
        "# Print the unique values list\n",
        "print(unique_states)"
      ]
    },
    {
      "cell_type": "code",
      "execution_count": null,
      "metadata": {
        "colab": {
          "base_uri": "https://localhost:8080/"
        },
        "id": "0qFl3b3PxZDY",
        "outputId": "29abff68-91b5-4e75-a2af-d04d9f0a6be9"
      },
      "outputs": [
        {
          "name": "stdout",
          "output_type": "stream",
          "text": [
            "['Coal', 'Hydroelectric Conventional', 'Natural Gas', 'Nuclear', 'Petroleum', 'Other Biomass']\n"
          ]
        }
      ],
      "source": [
        "# Get unique values from a column and store in a list\n",
        "unique_sources = df['ENERGY SOURCE'].unique().tolist()\n",
        "\n",
        "# Print the unique values list\n",
        "print(unique_sources)"
      ]
    },
    {
      "cell_type": "code",
      "execution_count": null,
      "metadata": {
        "id": "tyxY-FYGwqbo"
      },
      "outputs": [],
      "source": [
        "# Iterate over states and fuel types\n",
        "for state in unique_states:\n",
        "    for fuel_type in unique_sources:\n",
        "        # Filter rows based on current state and fuel type\n",
        "        filtered_df = df[(df['STATE'] == state) & (df['ENERGY SOURCE'] == fuel_type)]\n",
        "\n",
        "        # Compute the sum for the current state and fuel type\n",
        "        sum_amount = filtered_df['GENERATION (Megawatthours)'].sum()\n",
        "\n",
        "        # Create a new row with the state, fuel type, and sum\n",
        "        new_row = pd.DataFrame({'STATE': [state], 'ENERGY SOURCE': [fuel_type], 'GENERATION (Megawatthours)': [sum_amount]})\n",
        "\n",
        "        # Append the new row to the new DataFrame\n",
        "        fresh_df = fresh_df.append(new_row, ignore_index=True)\n",
        "\n",
        "# Print the new DataFrame\n",
        "print(fresh_df)"
      ]
    },
    {
      "cell_type": "code",
      "execution_count": null,
      "metadata": {
        "id": "s3Bau2VM2wXD"
      },
      "outputs": [],
      "source": [
        "fresh_df = fresh_df.drop(1)\n",
        "\n",
        "print(fresh_df)"
      ]
    },
    {
      "cell_type": "code",
      "execution_count": null,
      "metadata": {},
      "outputs": [],
      "source": [
        "fresh_df.info() #54 enteries after summing up generation by energy source per month and state"
      ]
    },
    {
      "cell_type": "code",
      "execution_count": null,
      "metadata": {},
      "outputs": [],
      "source": [
        "fresh_df.insert(0, 'id', range(1, len(df) + 1)) #add id column"
      ]
    },
    {
      "cell_type": "code",
      "execution_count": null,
      "metadata": {
        "id": "jCbugyKb3Ury"
      },
      "outputs": [],
      "source": [
        "fresh_df.to_csv('energyProductionFilter.csv', index=False)"
      ]
    }
  ],
  "metadata": {
    "colab": {
      "provenance": []
    },
    "kernelspec": {
      "display_name": "Python 3",
      "name": "python3"
    },
    "language_info": {
      "name": "python"
    }
  },
  "nbformat": 4,
  "nbformat_minor": 0
}
